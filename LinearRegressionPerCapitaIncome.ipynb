{
  "nbformat": 4,
  "nbformat_minor": 0,
  "metadata": {
    "colab": {
      "name": "LinearRegressionPerCapitaIncome.ipynb",
      "provenance": [],
      "collapsed_sections": []
    },
    "kernelspec": {
      "name": "python3",
      "display_name": "Python 3"
    }
  },
  "cells": [
    {
      "cell_type": "markdown",
      "metadata": {
        "id": "dQm347KQKhTu"
      },
      "source": [
        "## Importing Dataset"
      ]
    },
    {
      "cell_type": "code",
      "metadata": {
        "colab": {
          "base_uri": "https://localhost:8080/"
        },
        "id": "di64k4c9abIP",
        "outputId": "6d88ba8b-14d4-4ab0-9af7-53fa2a87a9c3"
      },
      "source": [
        "import pandas as pd\r\n",
        "print(\"Training Data\")\r\n",
        "data=pd.read_csv(\"train.csv\")\r\n",
        "print(data.head())\r\n",
        "print(\"To predict data\")\r\n",
        "df=pd.read_csv(\"predict.csv\")\r\n",
        "print(df.head())"
      ],
      "execution_count": 4,
      "outputs": [
        {
          "output_type": "stream",
          "text": [
            "Training Data\n",
            "   year  per capita income (US$)\n",
            "0  1970              3399.299037\n",
            "1  1971              3768.297935\n",
            "2  1972              4251.175484\n",
            "3  1973              4804.463248\n",
            "4  1974              5576.514583\n",
            "To predict data\n",
            "   year\n",
            "0  2017\n",
            "1  2018\n",
            "2  2019\n",
            "3  2020\n",
            "4  2021\n"
          ],
          "name": "stdout"
        }
      ]
    },
    {
      "cell_type": "markdown",
      "metadata": {
        "id": "nivBZczCKqYZ"
      },
      "source": [
        "## Plotting Training Data"
      ]
    },
    {
      "cell_type": "code",
      "metadata": {
        "colab": {
          "base_uri": "https://localhost:8080/",
          "height": 265
        },
        "id": "GQPGVOCBbOUY",
        "outputId": "43f14a43-56e0-4e49-9730-35b9e3fbd1e3"
      },
      "source": [
        "import matplotlib.pyplot as plt\r\n",
        "plt.scatter(data['year'],data['per capita income (US$)'],color='red')\r\n",
        "plt.show()"
      ],
      "execution_count": 11,
      "outputs": [
        {
          "output_type": "display_data",
          "data": {
            "image/png": "[encoded data removed]",
            "text/plain": [
              "<Figure size 432x288 with 1 Axes>"
            ]
          },
          "metadata": {
            "tags": [],
            "needs_background": "light"
          }
        }
      ]
    },
    {
      "cell_type": "markdown",
      "metadata": {
        "id": "WSA9DvNsKvJk"
      },
      "source": [
        "## Fitting Data in Linear Regression Model"
      ]
    },
    {
      "cell_type": "code",
      "metadata": {
        "colab": {
          "base_uri": "https://localhost:8080/"
        },
        "id": "2KDtSmCybvUn",
        "outputId": "394c53e8-ec60-4e38-f222-85149835e22e"
      },
      "source": [
        "from sklearn.linear_model import LinearRegression \r\n",
        "reg = LinearRegression()\r\n",
        "reg.fit(data[['year']],data['per capita income (US$)'])"
      ],
      "execution_count": 6,
      "outputs": [
        {
          "output_type": "execute_result",
          "data": {
            "text/plain": [
              "LinearRegression(copy_X=True, fit_intercept=True, n_jobs=None, normalize=False)"
            ]
          },
          "metadata": {
            "tags": []
          },
          "execution_count": 6
        }
      ]
    },
    {
      "cell_type": "markdown",
      "metadata": {
        "id": "rU4LCXHdK1Ns"
      },
      "source": [
        "## Equation of best fit line"
      ]
    },
    {
      "cell_type": "code",
      "metadata": {
        "colab": {
          "base_uri": "https://localhost:8080/"
        },
        "id": "Vqq75i53-t7N",
        "outputId": "458791fd-8096-4267-f7c5-8f17cf1dec3c"
      },
      "source": [
        "print(\"Y = \",reg.coef_,\"X\",reg.intercept_)"
      ],
      "execution_count": 7,
      "outputs": [
        {
          "output_type": "stream",
          "text": [
            "Y =  [828.46507522] X -1632210.7578554575\n"
          ],
          "name": "stdout"
        }
      ]
    },
    {
      "cell_type": "markdown",
      "metadata": {
        "id": "2ZlrKppWLD4D"
      },
      "source": [
        "## Plotting Best Fit line"
      ]
    },
    {
      "cell_type": "code",
      "metadata": {
        "colab": {
          "base_uri": "https://localhost:8080/",
          "height": 265
        },
        "id": "A1Uoo2qgLDWE",
        "outputId": "6eaafe96-3010-4936-9c09-e3d27fb4a674"
      },
      "source": [
        "plt.plot(data['year'],reg.predict(data[['year']]))\r\n",
        "plt.scatter(data['year'],data['per capita income (US$)'],color='red')\r\n",
        "plt.show()"
      ],
      "execution_count": 24,
      "outputs": [
        {
          "output_type": "display_data",
          "data": {
            "image/png": "[encoded data removed]",
            "text/plain": [
              "<Figure size 432x288 with 1 Axes>"
            ]
          },
          "metadata": {
            "tags": [],
            "needs_background": "light"
          }
        }
      ]
    },
    {
      "cell_type": "markdown",
      "metadata": {
        "id": "463AtG-5LKm0"
      },
      "source": [
        "## Predicting Values of per capita income for next ten years data in predict dataset"
      ]
    },
    {
      "cell_type": "code",
      "metadata": {
        "colab": {
          "base_uri": "https://localhost:8080/"
        },
        "id": "TNHGpX0iJAZZ",
        "outputId": "22d35b0a-087b-4d7e-e93c-35c2bfe07fe4"
      },
      "source": [
        "df['per capita income (US$)']=reg.predict(df[['year']])\r\n",
        "print(df)"
      ],
      "execution_count": 8,
      "outputs": [
        {
          "output_type": "stream",
          "text": [
            "    year  per capita income (US$)\n",
            "0   2017             38803.298869\n",
            "1   2018             39631.763944\n",
            "2   2019             40460.229019\n",
            "3   2020             41288.694094\n",
            "4   2021             42117.159170\n",
            "5   2022             42945.624245\n",
            "6   2023             43774.089320\n",
            "7   2024             44602.554395\n",
            "8   2025             45431.019471\n",
            "9   2026             46259.484546\n",
            "10  2027             47087.949621\n"
          ],
          "name": "stdout"
        }
      ]
    },
    {
      "cell_type": "markdown",
      "metadata": {
        "id": "5LolDDo4LcKG"
      },
      "source": [
        "## Creating prediction dataset with newly predicted values"
      ]
    },
    {
      "cell_type": "code",
      "metadata": {
        "id": "m8ktoF2EJmo0"
      },
      "source": [
        "df.to_csv(\"prediction.csv\",index=False)"
      ],
      "execution_count": 9,
      "outputs": []
    }
  ]
}
