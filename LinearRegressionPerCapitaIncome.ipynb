{
  "nbformat": 4,
  "nbformat_minor": 0,
  "metadata": {
    "colab": {
      "name": "LinearRegressionPerCapitaIncome.ipynb",
      "provenance": []
    },
    "kernelspec": {
      "name": "python3",
      "display_name": "Python 3"
    }
  },
  "cells": [
    {
      "cell_type": "markdown",
      "metadata": {
        "id": "dQm347KQKhTu"
      },
      "source": [
        "## Importing Dataset"
      ]
    },
    {
      "cell_type": "code",
      "metadata": {
        "colab": {
          "base_uri": "https://localhost:8080/"
        },
        "id": "di64k4c9abIP",
        "outputId": "80a7707e-5c7e-45d8-c356-088162fe6259"
      },
      "source": [
        "import pandas as pd\r\n",
        "print(\"Training Data\")\r\n",
        "data=pd.read_csv(\"train.csv\")\r\n",
        "print(data.head())\r\n",
        "print(\"To predict data\")\r\n",
        "df=pd.read_csv(\"predict.csv\")\r\n",
        "print(df.head())"
      ],
      "execution_count": 47,
      "outputs": [
        {
          "output_type": "stream",
          "text": [
            "Training Data\n",
            "   year  per capita income (US$)\n",
            "0  1970              3399.299037\n",
            "1  1971              3768.297935\n",
            "2  1972              4251.175484\n",
            "3  1973              4804.463248\n",
            "4  1974              5576.514583\n",
            "To predict data\n",
            "   year\n",
            "0  2017\n",
            "1  2018\n",
            "2  2019\n",
            "3  2020\n",
            "4  2021\n"
          ],
          "name": "stdout"
        }
      ]
    },
    {
      "cell_type": "markdown",
      "metadata": {
        "id": "nivBZczCKqYZ"
      },
      "source": [
        "## Plotting Data"
      ]
    },
    {
      "cell_type": "code",
      "metadata": {
        "colab": {
          "base_uri": "https://localhost:8080/",
          "height": 265
        },
        "id": "GQPGVOCBbOUY",
        "outputId": "8a81a67f-e886-4059-bb9d-dd9f61b90d55"
      },
      "source": [
        "import matplotlib.pyplot as plt\r\n",
        "plt.scatter(data['year'],data['per capita income (US$)'],color='red')\r\n",
        "plt.show()"
      ],
      "execution_count": 48,
      "outputs": [
        {
          "output_type": "display_data",
          "data": {
            "image/png": "[encoded data removed]",
            "text/plain": [
              "<Figure size 432x288 with 1 Axes>"
            ]
          },
          "metadata": {
            "tags": [],
            "needs_background": "light"
          }
        }
      ]
    },
    {
      "cell_type": "markdown",
      "metadata": {
        "id": "WSA9DvNsKvJk"
      },
      "source": [
        "## Fitting Data in Linear Regression Model"
      ]
    },
    {
      "cell_type": "code",
      "metadata": {
        "colab": {
          "base_uri": "https://localhost:8080/"
        },
        "id": "2KDtSmCybvUn",
        "outputId": "2e93717e-0c52-4950-bfbd-9b45164fff4c"
      },
      "source": [
        "from sklearn.linear_model import LinearRegression \r\n",
        "reg = LinearRegression()\r\n",
        "reg.fit(data[['year']],data['per capita income (US$)'])"
      ],
      "execution_count": 49,
      "outputs": [
        {
          "output_type": "execute_result",
          "data": {
            "text/plain": [
              "LinearRegression(copy_X=True, fit_intercept=True, n_jobs=None, normalize=False)"
            ]
          },
          "metadata": {
            "tags": []
          },
          "execution_count": 49
        }
      ]
    },
    {
      "cell_type": "markdown",
      "metadata": {
        "id": "rU4LCXHdK1Ns"
      },
      "source": [
        "## Equation of best fit line"
      ]
    },
    {
      "cell_type": "code",
      "metadata": {
        "colab": {
          "base_uri": "https://localhost:8080/"
        },
        "id": "Vqq75i53-t7N",
        "outputId": "a6924162-0bdd-4d2c-c8b7-108df80f0db6"
      },
      "source": [
        "print(\"Y = \",reg.coef_,\"X\",reg.intercept_)"
      ],
      "execution_count": 50,
      "outputs": [
        {
          "output_type": "stream",
          "text": [
            "Y =  [828.46507522] X -1632210.7578554575\n"
          ],
          "name": "stdout"
        }
      ]
    },
    {
      "cell_type": "markdown",
      "metadata": {
        "id": "463AtG-5LKm0"
      },
      "source": [
        "## Predicting Values of per capita income for next ten years"
      ]
    },
    {
      "cell_type": "code",
      "metadata": {
        "colab": {
          "base_uri": "https://localhost:8080/"
        },
        "id": "TNHGpX0iJAZZ",
        "outputId": "93f2b705-9571-47a9-f139-a644bd496cb9"
      },
      "source": [
        "df['per capita income (US$)']=reg.predict(df[['year']])\r\n",
        "print(df)"
      ],
      "execution_count": null,
      "outputs": [
        {
          "output_type": "stream",
          "text": [
            "    year  per capita income (US$)\n",
            "0   2017             38803.298869\n",
            "1   2018             39631.763944\n",
            "2   2019             40460.229019\n",
            "3   2020             41288.694094\n",
            "4   2021             42117.159170\n",
            "5   2022             42945.624245\n",
            "6   2023             43774.089320\n",
            "7   2024             44602.554395\n",
            "8   2025             45431.019471\n",
            "9   2026             46259.484546\n",
            "10  2027             47087.949621\n"
          ],
          "name": "stdout"
        }
      ]
    },
    {
      "cell_type": "markdown",
      "metadata": {
        "id": "5LolDDo4LcKG"
      },
      "source": [
        "## Creating new dataset for predict dataset"
      ]
    },
    {
      "cell_type": "code",
      "metadata": {
        "id": "m8ktoF2EJmo0"
      },
      "source": [
        "df.to_csv(\"prediction.csv\",index=False)"
      ],
      "execution_count": null,
      "outputs": []
    }
  ]
}